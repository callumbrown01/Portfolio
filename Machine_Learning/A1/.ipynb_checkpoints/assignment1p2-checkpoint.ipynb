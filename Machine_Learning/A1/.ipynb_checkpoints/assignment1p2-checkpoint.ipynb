{
 "cells": [
  {
   "cell_type": "code",
   "execution_count": 16,
   "id": "17a6e16b",
   "metadata": {},
   "outputs": [
    {
     "name": "stdout",
     "output_type": "stream",
     "text": [
      "RMSE: 0.14359624756818085\n"
     ]
    }
   ],
   "source": [
    "#1\n",
    "import pandas as pd\n",
    "import numpy as np\n",
    "from sklearn.model_selection import train_test_split\n",
    "from sklearn.preprocessing import StandardScaler\n",
    "from sklearn.neighbors import KNeighborsRegressor\n",
    "from sklearn.metrics import mean_squared_error\n",
    "\n",
    "housing = pd.read_csv(\"../housing_path/housing.csv\")\n",
    "\n",
    "train_set, test_set = train_test_split(housing, test_size=0.2, random_state=42)\n",
    "\n",
    "# fill the missing values in the total bedrooms column\n",
    "median = housing[\"total_bedrooms\"].median() # option 3\n",
    "housing[\"total_bedrooms\"].fillna(median, inplace=True)\n",
    "\n",
    "# drop the ocean proximity feature\n",
    "housing = housing.drop(\"ocean_proximity\", axis=1)\n",
    "\n",
    "# split the data 80/20 into a training and testing dataset\n",
    "training, testing = train_test_split(housing, test_size=0.2)\n",
    "\n",
    "# scaling the datasets\n",
    "std_scaler = StandardScaler()\n",
    "training_std = std_scaler.fit_transform(training)\n",
    "testing_std = std_scaler.transform(testing)\n",
    "\n",
    "# convert back to dataframe\n",
    "training_fn = pd.DataFrame(training_std, columns = list(training.columns)[0:])\n",
    "testing_fn = pd.DataFrame(testing_std, columns = list(testing.columns)[0:])\n",
    "\n",
    "# identify the targets for the regression model\n",
    "training_labels = training_fn[\"median_house_value\"]\n",
    "testing_labels = testing_fn[\"median_house_value\"]\n",
    "\n",
    "# train k-NN regressor\n",
    "k = 5\n",
    "knn_reg = KNeighborsRegressor(n_neighbors=k)\n",
    "knn_reg.fit(training_fn, training_labels)\n",
    "\n",
    "# use the model\n",
    "knn_pred = knn_reg.predict(testing_fn)\n",
    "\n",
    "# compute the RMSE\n",
    "rmse = np.sqrt(mean_squared_error(testing_labels, knn_pred))\n",
    "print(\"RMSE:\", rmse)"
   ]
  },
  {
   "cell_type": "markdown",
   "id": "8f20a856",
   "metadata": {},
   "source": [
    "Question 1\n",
    "\n",
    "While the value of the RMSE may vary depending on the dataset and the model constructed, a lower value indicates the model is performing well, as predictions are closer to the actual values. The RMSE value is a good score."
   ]
  },
  {
   "cell_type": "code",
   "execution_count": 26,
   "id": "bbe361f3",
   "metadata": {},
   "outputs": [
    {
     "name": "stdout",
     "output_type": "stream",
     "text": [
      "RMSE (uniform): 0.9235044665154809\n",
      "RMSE (distance): 0.9244120581986693\n"
     ]
    }
   ],
   "source": [
    "#2 and 3\n",
    "# dropped ocean proximity earlier\n",
    "# dropping 'total_bedrooms' and 'households' as they are directly related to 'total rooms'\n",
    "training_clean = training[['longitude', 'latitude', 'housing_median_age', 'total_rooms', 'population', 'median_income']]\n",
    "testing_clean = testing[['longitude', 'latitude', 'housing_median_age', 'total_rooms', 'population', 'median_income']]\n",
    "\n",
    "# target remains in the dataset, and doesnt change, so label is the same as above.\n",
    "\n",
    "# obtaining the dimension of feature vectors\n",
    "n = len(training_clean.columns)\n",
    "\n",
    "# train k-NN regressor\n",
    "k = 5\n",
    "knn_reg_u = KNeighborsRegressor(n_neighbors=k, weights='uniform')\n",
    "knn_reg_d = KNeighborsRegressor(n_neighbors=k, weights='distance')\n",
    "knn_reg_u.fit(training_clean, training_labels)\n",
    "knn_reg_d.fit(training_clean, training_labels)\n",
    "\n",
    "# use the model\n",
    "knn_pred_u = knn_reg_u.predict(testing_clean)\n",
    "knn_pred_d = knn_reg_d.predict(testing_clean)\n",
    "\n",
    "# compute the RMSE\n",
    "rmse_u = np.sqrt(mean_squared_error(testing_labels, knn_pred_u))\n",
    "rmse_d = np.sqrt(mean_squared_error(testing_labels, knn_pred_d))\n",
    "\n",
    "print(\"RMSE (uniform):\", rmse_u)\n",
    "print(\"RMSE (distance):\", rmse_d)\n"
   ]
  },
  {
   "cell_type": "markdown",
   "id": "4eeb826b",
   "metadata": {},
   "source": [
    "Question 2/3\n",
    "\n",
    "the two factors dont seem to drastically affect the RMSE, with the distance weights factor often yielding a slightly higher RMSE than the uniform factor, however this is negligible. The RMSE values are also larger than in question 1, this would be due to the removal of the three features, giving the model less data to train with, and therefor decreasing the accuracy of the model."
   ]
  }
 ],
 "metadata": {
  "kernelspec": {
   "display_name": "Python 3 (ipykernel)",
   "language": "python",
   "name": "python3"
  },
  "language_info": {
   "codemirror_mode": {
    "name": "ipython",
    "version": 3
   },
   "file_extension": ".py",
   "mimetype": "text/x-python",
   "name": "python",
   "nbconvert_exporter": "python",
   "pygments_lexer": "ipython3",
   "version": "3.10.6"
  }
 },
 "nbformat": 4,
 "nbformat_minor": 5
}
